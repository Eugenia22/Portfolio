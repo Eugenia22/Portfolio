{
 "cells": [
  {
   "cell_type": "markdown",
   "id": "5000148f",
   "metadata": {},
   "source": [
    "# Анализ результатов эксперимента"
   ]
  },
  {
   "cell_type": "markdown",
   "id": "7041ab3a",
   "metadata": {},
   "source": [
    "1.[Задачи проекта](#goal)  \n",
    "2.[Проверка корректности системы сплитования](#split)  \n",
    "3.[Анализ данных А/В-теста](#test)  \n",
    "4.[Вывод](#res)   \n",
    "5.[Дополнительно: Linearization](#extra)"
   ]
  },
  {
   "cell_type": "markdown",
   "id": "82cae934",
   "metadata": {},
   "source": [
    "# Задачи проекта <a id=\"goal\"></a>"
   ]
  },
  {
   "cell_type": "markdown",
   "id": "08936846",
   "metadata": {},
   "source": [
    "Компанией был проведен эксперимент по введению новых алгортимов рекомендаций постов пользователям.  \n",
    "Проверялись два алгоритма:  \n",
    "- Показываем пользователю посты, наиболее похожие на те, которые он лайкал.  \n",
    "-  Показываем пользователю посты, которые лайкали похожие на него пользователи.  \n",
    "Показателем, который будет говорить о том, что посты действительно стали интерснее, был выбран CTR из просмотров в лайки. Сначала для проверки корректности работы системы сплитования был проведен А/А-тест. После чего было запущено два параллельных А/В-теста на проверку двух гипотез.\n",
    "\n",
    "Задачи данного проекта:  \n",
    "1. Проверить корректность системы сплитования на анализе результатов А/А-теста.   \n",
    "Для этого на основе данных А/А-теста мы сделаем симуляцию, как будто было проведено 10000 А/А-тестов. На каждой итеррации сформируем подвыборки без повторения в 500 пользователй из 2 и 3 экспериментальной группы. Даты проведения А/А-теста - с 06.07.2022г. по 12.07.2022г. Проведем сравнение этих подвыборок t-testом.  \n",
    "2. Проанализировать данные А/В-теста.  \n",
    "Мы проанализируем данные эксперимента, который проходил 13.07.2022г. по 19.07.2022г. В эксперимента принимали участие 2 и 1 группы. В группе 2 был использован один из новых алгоритмов рекомендации постов, группа 1 использовалась в качестве контроля. Основная гипотеза заключается в том, что новый алгоритм во 2-й группе приведет к увеличению CTR. Проверим наличие различий в группах t-testом, тестом Манна-Уитни, посмотрим на распределение CTR на графиках. После этого \"сгладим\" CTR в обоих группах (используя сглаживание Лапласа), посмотрим на распределение и еще раз проведем t-testом. И еще раз подсчитаем разницу в CTR, применив пуассоновский бутстреп, и посмотрев на рапределение полученных значений на графиках.  \n",
    "3. Проанализировать тест между группамм 0 и 3, 1 и 2, используя метод [Linearization](https://vkteam.medium.com/practitioners-guide-to-statistical-tests-ed2d580ef04f#5eb5)\n",
    "4. На основе полученных результатов написать рекомендацию, будем ли мы раскатывать новый алгоритм на всех новых пользователей или все-таки не стоит."
   ]
  },
  {
   "cell_type": "code",
   "execution_count": 3,
   "id": "1cbbe610-e9e6-4890-a818-ced7201e5f89",
   "metadata": {},
   "outputs": [],
   "source": [
    "import pandas as pd\n",
    "import pandahouse as ph\n",
    "import seaborn as sns\n",
    "import matplotlib.pyplot as plt\n",
    "import numpy as np\n",
    "import hashlib\n",
    "from scipy import stats\n",
    "%matplotlib inline"
   ]
  },
  {
   "cell_type": "code",
   "execution_count": 2,
   "id": "ac0b6367-b0e5-4fa7-b0ec-4fac179785aa",
   "metadata": {},
   "outputs": [],
   "source": [
    "connection = {'host': 'https://clickhouse.lab.karpov.courses',\n",
    "                      'database':'simulator_20220820',\n",
    "                      'user':'student', \n",
    "                      'password':'dpo_python_2020'}"
   ]
  },
  {
   "cell_type": "markdown",
   "id": "68ee0604-f4c4-4b61-947c-3e0651a98eb7",
   "metadata": {},
   "source": [
    "# Проверка корректности системы сплитования <a id='split'></a>"
   ]
  },
  {
   "cell_type": "code",
   "execution_count": 5,
   "id": "824fa44d",
   "metadata": {},
   "outputs": [],
   "source": [
    "# Выгружаем данные\n",
    "\n",
    "query = '''\n",
    "            SELECT exp_group,\n",
    "                   user_id,\n",
    "                   sum(action = 'like') as likes,\n",
    "                   sum(action = 'view') as views,\n",
    "                   likes/views as ctr\n",
    "            FROM {db}.feed_actions\n",
    "            WHERE toDate(time) between '2022-07-06' and '2022-07-12'\n",
    "            and exp_group in (2, 3)\n",
    "            GROUP BY exp_group, user_id\n",
    "        '''\n",
    "\n",
    "data = ph.read_clickhouse(query, connection=connection)"
   ]
  },
  {
   "cell_type": "code",
   "execution_count": 6,
   "id": "996c054b-d7a6-4360-b28d-2f269167d51e",
   "metadata": {},
   "outputs": [
    {
     "data": {
      "text/html": [
       "<div>\n",
       "<style scoped>\n",
       "    .dataframe tbody tr th:only-of-type {\n",
       "        vertical-align: middle;\n",
       "    }\n",
       "\n",
       "    .dataframe tbody tr th {\n",
       "        vertical-align: top;\n",
       "    }\n",
       "\n",
       "    .dataframe thead th {\n",
       "        text-align: right;\n",
       "    }\n",
       "</style>\n",
       "<table border=\"1\" class=\"dataframe\">\n",
       "  <thead>\n",
       "    <tr style=\"text-align: right;\">\n",
       "      <th></th>\n",
       "      <th>user_id</th>\n",
       "      <th>likes</th>\n",
       "      <th>views</th>\n",
       "      <th>ctr</th>\n",
       "    </tr>\n",
       "    <tr>\n",
       "      <th>exp_group</th>\n",
       "      <th></th>\n",
       "      <th></th>\n",
       "      <th></th>\n",
       "      <th></th>\n",
       "    </tr>\n",
       "  </thead>\n",
       "  <tbody>\n",
       "    <tr>\n",
       "      <th>2</th>\n",
       "      <td>8480</td>\n",
       "      <td>8480</td>\n",
       "      <td>8480</td>\n",
       "      <td>8480</td>\n",
       "    </tr>\n",
       "    <tr>\n",
       "      <th>3</th>\n",
       "      <td>8569</td>\n",
       "      <td>8569</td>\n",
       "      <td>8569</td>\n",
       "      <td>8569</td>\n",
       "    </tr>\n",
       "  </tbody>\n",
       "</table>\n",
       "</div>"
      ],
      "text/plain": [
       "           user_id  likes  views   ctr\n",
       "exp_group                             \n",
       "2             8480   8480   8480  8480\n",
       "3             8569   8569   8569  8569"
      ]
     },
     "execution_count": 6,
     "metadata": {},
     "output_type": "execute_result"
    }
   ],
   "source": [
    "# Смотрим сколько у нас пользователей в группах\n",
    "\n",
    "data.groupby('exp_group').count()"
   ]
  },
  {
   "cell_type": "markdown",
   "id": "a82fd7ae",
   "metadata": {},
   "source": [
    "Количество пользователей в группах распределено примерно одинаково."
   ]
  },
  {
   "cell_type": "code",
   "execution_count": 10,
   "id": "03bfe1b9-d9da-4f02-a3c6-9269d85eb5dc",
   "metadata": {},
   "outputs": [
    {
     "data": {
      "image/png": "[encoded data removed]",
      "text/plain": [
       "<Figure size 842.4x595.44 with 1 Axes>"
      ]
     },
     "metadata": {},
     "output_type": "display_data"
    }
   ],
   "source": [
    "# Строим гистограммы распределения групп\n",
    "\n",
    "sns.set(rc={'figure.figsize':(11.7,8.27)})\n",
    "\n",
    "groups = sns.histplot(data = data, \n",
    "              x='ctr', \n",
    "              hue='exp_group', \n",
    "              palette = ['r', 'b'],\n",
    "              alpha=0.5,\n",
    "              kde=False)"
   ]
  },
  {
   "cell_type": "code",
   "execution_count": 8,
   "id": "6df5c60a-8097-4ecd-b736-8b28dcfe565f",
   "metadata": {},
   "outputs": [],
   "source": [
    "# Создаем функцию симуляции проведения A/A-тестов, которая возвращает Series из p-value \"проведенных\" тестов\n",
    "\n",
    "def AA_test_simulation(ctr1, ctr2, n_simulation=10000):\n",
    "    p_values = []\n",
    "\n",
    "    for _ in range(n_simulation):\n",
    "        p_values.append(stats.ttest_ind(ctr1.sample(500),\n",
    "                    ctr2.sample(500),\n",
    "                    equal_var=False)[1])\n",
    "        \n",
    "    return pd.Series(p_values)"
   ]
  },
  {
   "cell_type": "code",
   "execution_count": 11,
   "id": "af186319-a63a-4cdc-9455-2d94c76203be",
   "metadata": {},
   "outputs": [
    {
     "data": {
      "text/plain": [
       "0    0.903963\n",
       "1    0.522579\n",
       "2    0.804103\n",
       "3    0.771668\n",
       "4    0.307485\n",
       "5    0.161044\n",
       "6    0.558644\n",
       "7    0.377470\n",
       "8    0.564589\n",
       "9    0.267138\n",
       "dtype: float64"
      ]
     },
     "execution_count": 11,
     "metadata": {},
     "output_type": "execute_result"
    }
   ],
   "source": [
    "# Получаем p-values\n",
    "\n",
    "p_values = AA_test_simulation(data[data.exp_group == 2].ctr, data[data.exp_group == 3].ctr)\n",
    "p_values[:10]"
   ]
  },
  {
   "cell_type": "code",
   "execution_count": 16,
   "id": "fb0995bb-2b35-4dc5-80e7-d08286458ebd",
   "metadata": {},
   "outputs": [
    {
     "data": {
      "image/png": "[encoded data removed]",
      "text/plain": [
       "<Figure size 842.4x595.44 with 1 Axes>"
      ]
     },
     "metadata": {},
     "output_type": "display_data"
    }
   ],
   "source": [
    "# Строим гистограмму распределения получившихся p-values\n",
    "\n",
    "sns.histplot(p_values)\n",
    "plt.title('Распределение p-value')\n",
    "plt.show()"
   ]
  },
  {
   "cell_type": "code",
   "execution_count": 17,
   "id": "74989c80-7ee5-4722-af4d-9b80c632cbf6",
   "metadata": {},
   "outputs": [
    {
     "data": {
      "text/plain": [
       "4.68"
      ]
     },
     "execution_count": 17,
     "metadata": {},
     "output_type": "execute_result"
    }
   ],
   "source": [
    "# Считаем какой процент p-values оказался меньше либо равен 0.05\n",
    "\n",
    "len(p_values.where(p_values <= 0.05).dropna()) / len(p_values) * 100"
   ]
  },
  {
   "cell_type": "markdown",
   "id": "ef7dddad-e6c5-4aff-a009-c31f1e093b29",
   "metadata": {},
   "source": [
    "Проведенный анализ показал, что система сплитования работает корректно, так как на симуляции 10000 A/A-тестов, p-value меньше 0.05 встречается в чуть меньше чем 5% случаев. Это означает, что с вероятностью примерно 95% наша система сплитования работает корректно."
   ]
  },
  {
   "cell_type": "markdown",
   "id": "9e3f859b",
   "metadata": {},
   "source": [
    "# Анализ данных А/В-теста <a id='test'></a>"
   ]
  },
  {
   "cell_type": "code",
   "execution_count": 18,
   "id": "561ad7ca",
   "metadata": {},
   "outputs": [],
   "source": [
    "# Выгружаем данные\n",
    "\n",
    "q = '''\n",
    "        SELECT exp_group, \n",
    "            user_id,\n",
    "            sum(action = 'like') as likes,\n",
    "            sum(action = 'view') as views,\n",
    "            likes/views as ctr\n",
    "        FROM {db}.feed_actions \n",
    "        WHERE toDate(time) between '2022-07-13' and '2022-07-19'\n",
    "              and exp_group in (1, 2)\n",
    "        GROUP BY exp_group, user_id\n",
    "    '''\n",
    "\n",
    "data2 = ph.read_clickhouse(q, connection=connection)"
   ]
  },
  {
   "cell_type": "code",
   "execution_count": 19,
   "id": "c2c7b76b",
   "metadata": {},
   "outputs": [
    {
     "data": {
      "text/html": [
       "<div>\n",
       "<style scoped>\n",
       "    .dataframe tbody tr th:only-of-type {\n",
       "        vertical-align: middle;\n",
       "    }\n",
       "\n",
       "    .dataframe tbody tr th {\n",
       "        vertical-align: top;\n",
       "    }\n",
       "\n",
       "    .dataframe thead th {\n",
       "        text-align: right;\n",
       "    }\n",
       "</style>\n",
       "<table border=\"1\" class=\"dataframe\">\n",
       "  <thead>\n",
       "    <tr style=\"text-align: right;\">\n",
       "      <th></th>\n",
       "      <th>user_id</th>\n",
       "      <th>likes</th>\n",
       "      <th>views</th>\n",
       "      <th>ctr</th>\n",
       "    </tr>\n",
       "    <tr>\n",
       "      <th>exp_group</th>\n",
       "      <th></th>\n",
       "      <th></th>\n",
       "      <th></th>\n",
       "      <th></th>\n",
       "    </tr>\n",
       "  </thead>\n",
       "  <tbody>\n",
       "    <tr>\n",
       "      <th>1</th>\n",
       "      <td>10079</td>\n",
       "      <td>10079</td>\n",
       "      <td>10079</td>\n",
       "      <td>10079</td>\n",
       "    </tr>\n",
       "    <tr>\n",
       "      <th>2</th>\n",
       "      <td>9952</td>\n",
       "      <td>9952</td>\n",
       "      <td>9952</td>\n",
       "      <td>9952</td>\n",
       "    </tr>\n",
       "  </tbody>\n",
       "</table>\n",
       "</div>"
      ],
      "text/plain": [
       "           user_id  likes  views    ctr\n",
       "exp_group                              \n",
       "1            10079  10079  10079  10079\n",
       "2             9952   9952   9952   9952"
      ]
     },
     "execution_count": 19,
     "metadata": {},
     "output_type": "execute_result"
    }
   ],
   "source": [
    "# Смотрим на количество пользователей в группах\n",
    "\n",
    "data2.groupby('exp_group').count()"
   ]
  },
  {
   "cell_type": "markdown",
   "id": "4c63f0f1",
   "metadata": {},
   "source": [
    "Количество пользователей в группах распределено примерно одинаково. Перейдем к проверке гипотез."
   ]
  },
  {
   "cell_type": "markdown",
   "id": "a176f92b",
   "metadata": {},
   "source": [
    "Мы проверяем результаты эксперимента по введению нового алгоритма рекомендаций - пользователю показываются посты, наиболее похожие на те, что он лайкал. Согласно гипотезе, нововведение должно увеличить CTR пользователя.  \n",
    "\n",
    "Нулевая гипотеза - CTR в группах не отличается, алгоритм не работает.  \n",
    "Альтернативная гипотеза - CTR в группах разный."
   ]
  },
  {
   "cell_type": "code",
   "execution_count": 22,
   "id": "d7ca80c7",
   "metadata": {},
   "outputs": [
    {
     "data": {
      "text/plain": [
       "Ttest_indResult(statistic=0.7094392041270486, pvalue=0.4780623130874935)"
      ]
     },
     "execution_count": 22,
     "metadata": {},
     "output_type": "execute_result"
    }
   ],
   "source": [
    "# T-test\n",
    "\n",
    "stats.ttest_ind(data2[data2.exp_group == 1].ctr, data2[data2.exp_group == 2].ctr, equal_var=False)"
   ]
  },
  {
   "cell_type": "markdown",
   "id": "7a844ebc",
   "metadata": {},
   "source": [
    "Т-test показал, что различий в группах нет. Посмотрим на тест Манна-Уитни:"
   ]
  },
  {
   "cell_type": "code",
   "execution_count": 24,
   "id": "80a59740",
   "metadata": {},
   "outputs": [
    {
     "data": {
      "text/plain": [
       "MannwhitneyuResult(statistic=56601260.5, pvalue=6.0376484617779035e-56)"
      ]
     },
     "execution_count": 24,
     "metadata": {},
     "output_type": "execute_result"
    }
   ],
   "source": [
    "stats.mannwhitneyu(data2[data2.exp_group == 1].ctr, data2[data2.exp_group == 2].ctr, alternative = 'two-sided')"
   ]
  },
  {
   "cell_type": "markdown",
   "id": "170216da",
   "metadata": {},
   "source": [
    "Тест же Манна-Уитни показал, что в группах есть значительные отличия. Посмотрим на средние и медианные CTR в каждой группе, а так построим распределение CTR на графике. "
   ]
  },
  {
   "cell_type": "code",
   "execution_count": 25,
   "id": "a9649c91",
   "metadata": {},
   "outputs": [
    {
     "name": "stdout",
     "output_type": "stream",
     "text": [
      "Средние значения CTR: 0.22 / 0.21\n",
      "Медианные значения CTR: 0.2 / 0.14\n"
     ]
    }
   ],
   "source": [
    "print('Средние значения CTR:', round((data2[data2['exp_group'] == 1].ctr.mean()), 2), '/',\n",
    "      round((data2[data2['exp_group'] == 2].ctr.mean()), 2))\n",
    "\n",
    "print('Медианные значения CTR:', round((data2[data2['exp_group'] == 1].ctr.median()), 2), '/',\n",
    "      round((data2[data2['exp_group'] == 2].ctr.median()), 2))"
   ]
  },
  {
   "cell_type": "code",
   "execution_count": 27,
   "id": "7c3ea0d9",
   "metadata": {
    "scrolled": true
   },
   "outputs": [
    {
     "data": {
      "image/png": "[encoded data removed]",
      "text/plain": [
       "<Figure size 842.4x595.44 with 1 Axes>"
      ]
     },
     "metadata": {},
     "output_type": "display_data"
    }
   ],
   "source": [
    "# Смотрим на распределение CTR\n",
    "\n",
    "sns.set(rc={'figure.figsize':(11.7, 8.27)})\n",
    "plt.title('Распределение CTR')\n",
    "p = sns.histplot(data = data2, x = 'ctr', hue = 'exp_group', palette = ['r', 'b'], alpha=0.5, kde=False)"
   ]
  },
  {
   "cell_type": "markdown",
   "id": "78442920",
   "metadata": {},
   "source": [
    "Как видно на графике, распределение CTR в экспериментальной группе значительно отличается от контрольной. В экспериментальной группе распределение CTR имеет бимодальный вид, распределение в контрольной группе близко к нормальному распределению, отсюда некорректная работа t-testa, он не видит различий в группах.\n",
    "Средние в группах практически одинаковые, медианные значения имеют отличия."
   ]
  },
  {
   "cell_type": "markdown",
   "id": "5c7d3698",
   "metadata": {},
   "source": [
    "## Сглаженный CTR"
   ]
  },
  {
   "cell_type": "markdown",
   "id": "070d6782",
   "metadata": {},
   "source": [
    "Проведем теперь t-test на сглаженном CTR."
   ]
  },
  {
   "cell_type": "code",
   "execution_count": 28,
   "id": "db944ebb",
   "metadata": {},
   "outputs": [],
   "source": [
    "# Создаем функцию для расчета сглаженного CTR\n",
    "\n",
    "def get_smothed_ctr(user_likes, user_views, global_ctr, alpha):\n",
    "    smothed_ctr = (user_likes + alpha * global_ctr) / (user_views + alpha)\n",
    "    return smothed_ctr"
   ]
  },
  {
   "cell_type": "code",
   "execution_count": 29,
   "id": "05bb589b",
   "metadata": {},
   "outputs": [],
   "source": [
    "# Расчитываем глобальный CTR для каждой группы\n",
    "\n",
    "global_ctr_1 = data2[data2['exp_group'] == 1].likes.sum()/data2[data2['exp_group'] == 1].views.sum()\n",
    "global_ctr_2 = data2[data2['exp_group'] == 2].likes.sum()/data2[data2['exp_group']==2].views.sum()"
   ]
  },
  {
   "cell_type": "markdown",
   "id": "f4c6f2d7",
   "metadata": {},
   "source": [
    "Расчитаем сглаженный CTR для первой группы и посмотрим на распределение до сглаживания и после."
   ]
  },
  {
   "cell_type": "code",
   "execution_count": 30,
   "id": "bd70d80e",
   "metadata": {},
   "outputs": [
    {
     "data": {
      "image/png": "[encoded data removed]",
      "text/plain": [
       "<Figure size 360x360 with 1 Axes>"
      ]
     },
     "metadata": {},
     "output_type": "display_data"
    }
   ],
   "source": [
    "group_1 = data2[data2['exp_group'] == 1].copy()\n",
    "\n",
    "sns.displot(group_1.ctr, kde=False)\n",
    "plt.xlabel('Распределение CTR до сглаживания, контрольная группа')\n",
    "plt.show()"
   ]
  },
  {
   "cell_type": "code",
   "execution_count": 31,
   "id": "170365e3",
   "metadata": {},
   "outputs": [],
   "source": [
    "# Расчитываем сглаженный CTR\n",
    "group_1['smothed_ctr'] = group_1.apply(lambda x: get_smothed_ctr(x['likes'], x['views'], global_ctr_1, 5), axis=1)"
   ]
  },
  {
   "cell_type": "code",
   "execution_count": 32,
   "id": "2ce92fec",
   "metadata": {},
   "outputs": [
    {
     "data": {
      "image/png": "[encoded data removed]",
      "text/plain": [
       "<Figure size 360x360 with 1 Axes>"
      ]
     },
     "metadata": {},
     "output_type": "display_data"
    }
   ],
   "source": [
    "# Смотри на распределение сглаженного CTR\n",
    "\n",
    "sns.displot(group_1.smothed_ctr, kde=False)\n",
    "plt.xlabel('Распределение CTR после сглаживания, контрольная группа')\n",
    "plt.show()"
   ]
  },
  {
   "cell_type": "markdown",
   "id": "c6825d11",
   "metadata": {},
   "source": [
    "Сделаем то же самое для второй группы."
   ]
  },
  {
   "cell_type": "code",
   "execution_count": 33,
   "id": "558bf353",
   "metadata": {},
   "outputs": [
    {
     "data": {
      "image/png": "[encoded data removed]",
      "text/plain": [
       "<Figure size 360x360 with 1 Axes>"
      ]
     },
     "metadata": {},
     "output_type": "display_data"
    }
   ],
   "source": [
    "group_2 = data2[data2['exp_group'] == 2].copy()\n",
    "\n",
    "sns.displot(group_2.ctr, kde=False)\n",
    "plt.xlabel('Распределение CTR до сглаживания, экспериментальная группа')\n",
    "plt.show()"
   ]
  },
  {
   "cell_type": "code",
   "execution_count": 34,
   "id": "3cc12089",
   "metadata": {},
   "outputs": [],
   "source": [
    "group_2['smothed_ctr'] = group_2.apply(lambda x: get_smothed_ctr(x['likes'], x['views'], global_ctr_2, 5), axis=1)"
   ]
  },
  {
   "cell_type": "code",
   "execution_count": 35,
   "id": "03de9b02",
   "metadata": {},
   "outputs": [
    {
     "data": {
      "image/png": "[encoded data removed]",
      "text/plain": [
       "<Figure size 360x360 with 1 Axes>"
      ]
     },
     "metadata": {},
     "output_type": "display_data"
    }
   ],
   "source": [
    "# Смотрим на распределение CTR\n",
    "\n",
    "sns.displot(group_2.smothed_ctr, kde=False)\n",
    "plt.xlabel('Распределение CTR после сглаживания, экспирментальная группа')\n",
    "plt.show()"
   ]
  },
  {
   "cell_type": "code",
   "execution_count": 36,
   "id": "4562c91e",
   "metadata": {},
   "outputs": [
    {
     "data": {
      "text/plain": [
       "Ttest_indResult(statistic=2.2841320431616983, pvalue=0.0223769815558559)"
      ]
     },
     "execution_count": 36,
     "metadata": {},
     "output_type": "execute_result"
    }
   ],
   "source": [
    "# T-test на сглаженном CTR\n",
    "\n",
    "stats.ttest_ind(group_1.smothed_ctr, group_2.smothed_ctr, equal_var=False)"
   ]
  },
  {
   "cell_type": "markdown",
   "id": "c11c50b1",
   "metadata": {},
   "source": [
    "На сглаженном CTR t-test увидел отличия в группах."
   ]
  },
  {
   "cell_type": "markdown",
   "id": "ae3f545b",
   "metadata": {},
   "source": [
    "## Пуассоновский бутстреп"
   ]
  },
  {
   "cell_type": "code",
   "execution_count": 38,
   "id": "8545cf6a",
   "metadata": {},
   "outputs": [],
   "source": [
    "# Функция для расчета глобального CTR c помощью бутстрепа\n",
    "\n",
    "def bootstrap(likes1, views1, likes2, views2, n_bootstrap=2000):\n",
    "    \n",
    "    poisson_bootstraps1 = stats.poisson(1).rvs((n_bootstrap, len(likes1))).astype(np.int64)\n",
    "    poisson_bootstraps2 = stats.poisson(1).rvs((n_bootstrap, len(likes2))).astype(np.int64)\n",
    "    \n",
    "    global_ctr1 = (poisson_bootstraps1*likes1).sum(axis=1)/(poisson_bootstraps1*views1).sum(axis=1)\n",
    "    global_ctr2 = (poisson_bootstraps2*likes2).sum(axis=1)/(poisson_bootstraps2*views2).sum(axis=1)\n",
    "    \n",
    "    return global_ctr1, global_ctr2"
   ]
  },
  {
   "cell_type": "code",
   "execution_count": 39,
   "id": "0a830d95",
   "metadata": {},
   "outputs": [],
   "source": [
    "# Собираем лайки и просмотры для расчета глобального CTR\n",
    "\n",
    "likes1 = group_1.likes.to_numpy()\n",
    "views1 = group_1.views.to_numpy()\n",
    "likes2 = group_2.likes.to_numpy()\n",
    "views2 = group_2.views.to_numpy()"
   ]
  },
  {
   "cell_type": "code",
   "execution_count": 40,
   "id": "21b8a23c",
   "metadata": {},
   "outputs": [],
   "source": [
    "# Считаем CTR\n",
    "\n",
    "ctr1, ctr2 = bootstrap(likes1, views1, likes2, views2)"
   ]
  },
  {
   "cell_type": "code",
   "execution_count": 41,
   "id": "a426728f",
   "metadata": {},
   "outputs": [
    {
     "data": {
      "image/png": "[encoded data removed]",
      "text/plain": [
       "<Figure size 842.4x595.44 with 1 Axes>"
      ]
     },
     "metadata": {},
     "output_type": "display_data"
    }
   ],
   "source": [
    "# Смотрим на распределение CTR по группам\n",
    "\n",
    "sns.histplot(ctr1)\n",
    "sns.histplot(ctr2)\n",
    "plt.title('Распределение CTR по группам')\n",
    "plt.show()"
   ]
  },
  {
   "cell_type": "markdown",
   "id": "7159a986",
   "metadata": {},
   "source": [
    "На графике видно, что CTR по группам значительно отличаются. Построим график распределения разницы CTR."
   ]
  },
  {
   "cell_type": "code",
   "execution_count": 42,
   "id": "519a121c",
   "metadata": {},
   "outputs": [
    {
     "data": {
      "image/png": "[encoded data removed]",
      "text/plain": [
       "<Figure size 842.4x595.44 with 1 Axes>"
      ]
     },
     "metadata": {},
     "output_type": "display_data"
    }
   ],
   "source": [
    "sns.histplot(ctr2 - ctr1)\n",
    "plt.xlabel('Распределение разницы CTR')\n",
    "plt.show()"
   ]
  },
  {
   "cell_type": "markdown",
   "id": "6e8097d6",
   "metadata": {},
   "source": [
    "На графике распределение с отрицательным значением, CTR экспериментальной группы меньше CTR контрольной группы."
   ]
  },
  {
   "cell_type": "markdown",
   "id": "36ddd2cd",
   "metadata": {},
   "source": [
    "# Вывод <a id='res'></a>"
   ]
  },
  {
   "cell_type": "markdown",
   "id": "1f240cc0",
   "metadata": {},
   "source": [
    "Мы провели анализ результатов AB-теста, который должен был показать увеличение CTR после внедрения нового алгоритма рекомендаций.  \n",
    "Тест Манна-Уитни и t-test на сглаженном CTR выявили значимые отличия в контрольной и экспериментальной группах. Пуассоновский бутстреп для расчета разницы в CTR показал, что CTR экспериментальной группы меньше, чем в контрольной.  \n",
    "Распределение CTR в экспериментальной группе имеет бимодальный вид, что может свидетельствовать о некорректной работе введенного алгоритма, возможно алгоритм еще недоработан, либо требуется большее время проведения эксперимента, чтобы увидеть результаты.  \n",
    "На данный момент новый алгоритм не стоит внедрять на всех пользователей."
   ]
  },
  {
   "cell_type": "markdown",
   "id": "b9a49dc3",
   "metadata": {},
   "source": [
    "# Дополнительно: Linearization <a id='extra'></a>"
   ]
  },
  {
   "cell_type": "markdown",
   "id": "80b5399f",
   "metadata": {},
   "source": [
    "## Анализ групп 0 и 3"
   ]
  },
  {
   "cell_type": "code",
   "execution_count": 44,
   "id": "dee2901d",
   "metadata": {},
   "outputs": [],
   "source": [
    "# Выгружаем данные\n",
    "\n",
    "q = '''\n",
    "        SELECT exp_group, \n",
    "            user_id,\n",
    "            sum(action = 'like') as likes,\n",
    "            sum(action = 'view') as views,\n",
    "            likes/views as ctr\n",
    "        FROM {db}.feed_actions \n",
    "        WHERE toDate(time) between '2022-07-13' and '2022-07-19'\n",
    "        and exp_group in (0, 3)\n",
    "        GROUP BY exp_group, user_id\n",
    "    '''\n",
    "\n",
    "df1 = ph.read_clickhouse(q, connection=connection)"
   ]
  },
  {
   "cell_type": "code",
   "execution_count": 45,
   "id": "563febd1",
   "metadata": {},
   "outputs": [],
   "source": [
    "# Расчитываем общий CTR контрольной группы\n",
    "\n",
    "ctr_control_1 = df1[df1['exp_group'] == 0].likes.sum()/df1[df1['exp_group'] == 0].views.sum()"
   ]
  },
  {
   "cell_type": "code",
   "execution_count": 46,
   "id": "fba9a4a6",
   "metadata": {},
   "outputs": [],
   "source": [
    "# Расчитываем метрику для всех пользователей\n",
    "\n",
    "df1['linearized_likes'] = df1['likes'] - df1['views'] * ctr_control_1"
   ]
  },
  {
   "cell_type": "code",
   "execution_count": 47,
   "id": "56dd0613",
   "metadata": {},
   "outputs": [
    {
     "data": {
      "text/plain": [
       "Ttest_indResult(statistic=-13.896870721904069, pvalue=1.055849414662529e-43)"
      ]
     },
     "execution_count": 47,
     "metadata": {},
     "output_type": "execute_result"
    }
   ],
   "source": [
    "# Расчитаем p-value по CTR\n",
    "\n",
    "stats.ttest_ind(df1[df1.exp_group == 0].ctr, df1[df1.exp_group == 3].ctr, equal_var = False)"
   ]
  },
  {
   "cell_type": "code",
   "execution_count": 48,
   "id": "eebe7f6b",
   "metadata": {},
   "outputs": [
    {
     "data": {
      "text/plain": [
       "Ttest_indResult(statistic=-15.21499546090383, pvalue=5.4914249479687664e-52)"
      ]
     },
     "execution_count": 48,
     "metadata": {},
     "output_type": "execute_result"
    }
   ],
   "source": [
    "# Расчитаем p-value по linearized likes\n",
    "\n",
    "stats.ttest_ind(df1[df1.exp_group == 0].linearized_likes, df1[df1.exp_group == 3].linearized_likes, equal_var = False)"
   ]
  },
  {
   "cell_type": "markdown",
   "id": "fd3a7b03",
   "metadata": {},
   "source": [
    "На данных группах в обоих вариантах расчета p-value получается очень маленьким."
   ]
  },
  {
   "cell_type": "markdown",
   "id": "8fc49dec",
   "metadata": {},
   "source": [
    "## Анализ групп 1 и 2"
   ]
  },
  {
   "cell_type": "code",
   "execution_count": 49,
   "id": "7f3cbd40",
   "metadata": {},
   "outputs": [],
   "source": [
    "# Выгружаем данные\n",
    "\n",
    "q = '''\n",
    "        SELECT exp_group, \n",
    "            user_id,\n",
    "            sum(action = 'like') as likes,\n",
    "            sum(action = 'view') as views,\n",
    "            likes/views as ctr\n",
    "        FROM {db}.feed_actions \n",
    "        WHERE toDate(time) between '2022-07-13' and '2022-07-19'\n",
    "        and exp_group in (1, 2)\n",
    "        GROUP BY exp_group, user_id\n",
    "    '''\n",
    "\n",
    "df2 = ph.read_clickhouse(q, connection=connection)"
   ]
  },
  {
   "cell_type": "code",
   "execution_count": 50,
   "id": "f436509f",
   "metadata": {},
   "outputs": [],
   "source": [
    "# Расчитываем общий CTR контрольной группы\n",
    "\n",
    "ctr_control_2 = df2[df2['exp_group'] == 1].likes.sum()/df2[df2['exp_group'] == 1].views.sum()"
   ]
  },
  {
   "cell_type": "code",
   "execution_count": 51,
   "id": "0c776b6d",
   "metadata": {},
   "outputs": [],
   "source": [
    "# Расчитываем метрику для всех пользователей\n",
    "\n",
    "df2['linearized_likes'] = df2['likes'] - df2['views'] * ctr_control_2"
   ]
  },
  {
   "cell_type": "code",
   "execution_count": 52,
   "id": "ba41bb6e",
   "metadata": {},
   "outputs": [
    {
     "data": {
      "text/plain": [
       "Ttest_indResult(statistic=0.7094392041270485, pvalue=0.4780623130874935)"
      ]
     },
     "execution_count": 52,
     "metadata": {},
     "output_type": "execute_result"
    }
   ],
   "source": [
    "# Расчитываем p-value по CTR\n",
    "\n",
    "stats.ttest_ind(df2[df2.exp_group == 1].ctr, df2[df2.exp_group == 2].ctr, equal_var = False)"
   ]
  },
  {
   "cell_type": "code",
   "execution_count": 53,
   "id": "a94605d9",
   "metadata": {},
   "outputs": [
    {
     "data": {
      "text/plain": [
       "Ttest_indResult(statistic=6.122579994775973, pvalue=9.439432187037712e-10)"
      ]
     },
     "execution_count": 53,
     "metadata": {},
     "output_type": "execute_result"
    }
   ],
   "source": [
    "# Расчитаем p-value по linearized likes\n",
    "\n",
    "stats.ttest_ind(df2[df2.exp_group == 1].linearized_likes, df2[df2.exp_group == 2].linearized_likes, equal_var = False)"
   ]
  },
  {
   "cell_type": "markdown",
   "id": "fc36329d",
   "metadata": {},
   "source": [
    "## Вывод\n",
    "\n",
    "Т-тест по CTR в данных группах не увидел отличий, а вот при проведении теста на расчитанной метрике linearized likes p-value получился гораздо меньше и показал значимые отличия в группах. "
   ]
  }
 ],
 "metadata": {
  "kernelspec": {
   "display_name": "Python 3 (ipykernel)",
   "language": "python",
   "name": "python3"
  },
  "language_info": {
   "codemirror_mode": {
    "name": "ipython",
    "version": 3
   },
   "file_extension": ".py",
   "mimetype": "text/x-python",
   "name": "python",
   "nbconvert_exporter": "python",
   "pygments_lexer": "ipython3",
   "version": "3.9.7"
  }
 },
 "nbformat": 4,
 "nbformat_minor": 5
}
